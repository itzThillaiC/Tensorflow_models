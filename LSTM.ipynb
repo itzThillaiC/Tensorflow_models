{
  "nbformat": 4,
  "nbformat_minor": 0,
  "metadata": {
    "colab": {
      "name": "LSTM.ipynb",
      "provenance": [],
      "collapsed_sections": [],
      "authorship_tag": "ABX9TyOXHcckHQQ8l+GlNBVFk1BB",
      "include_colab_link": true
    },
    "kernelspec": {
      "name": "python3",
      "display_name": "Python 3"
    },
    "language_info": {
      "name": "python"
    }
  },
  "cells": [
    {
      "cell_type": "markdown",
      "metadata": {
        "id": "view-in-github",
        "colab_type": "text"
      },
      "source": [
        "<a href=\"https://colab.research.google.com/github/itzThillaiC/Tensorflow_models/blob/main/LSTM.ipynb\" target=\"_parent\"><img src=\"https://colab.research.google.com/assets/colab-badge.svg\" alt=\"Open In Colab\"/></a>"
      ]
    },
    {
      "cell_type": "markdown",
      "source": [
        "**        LSTM for Time series analysis**"
      ],
      "metadata": {
        "id": "VFDQQthm7I8x"
      }
    },
    {
      "cell_type": "code",
      "execution_count": 1,
      "metadata": {
        "id": "7UnyjKQhu7Ae"
      },
      "outputs": [],
      "source": [
        "import numpy as np\n",
        "from tensorflow.keras.models import Sequential\n",
        "from tensorflow.keras.layers import LSTM\n",
        "from tensorflow.keras.layers import Dense\n",
        "from tensorflow.keras.layers import Flatten\n"
      ]
    },
    {
      "cell_type": "code",
      "source": [
        "def prepare_data(time_data,n_features):\n",
        "  x,y=[],[]\n",
        "  for i in range(len(time_data)):\n",
        "    end_ix=i+n_features\n",
        "    if end_ix >len(time_data)-1:\n",
        "      break\n",
        "    seq_x,seq_y=time_data[i:end_ix],time_data[end_ix]\n",
        "    x.append(seq_x)\n",
        "    y.append(seq_y)\n",
        "  \n",
        "  return np.array(x),np.array(y)\n",
        "    \n"
      ],
      "metadata": {
        "id": "QXOFu7j-0zRc"
      },
      "execution_count": 23,
      "outputs": []
    },
    {
      "cell_type": "code",
      "source": [
        "time_data=[110,125,133,146,158,172,187,196,210]\n",
        "n_steps=3\n",
        "x,y=prepare_data(time_data,n_features)"
      ],
      "metadata": {
        "id": "qesERs04zp8y"
      },
      "execution_count": 22,
      "outputs": []
    },
    {
      "cell_type": "code",
      "source": [
        "print(x),print(y)"
      ],
      "metadata": {
        "colab": {
          "base_uri": "https://localhost:8080/"
        },
        "id": "obOauOeh2_dd",
        "outputId": "68378ba0-7a69-4091-971c-6152a50b0ca5"
      },
      "execution_count": 8,
      "outputs": [
        {
          "output_type": "stream",
          "name": "stdout",
          "text": [
            "[[110 125 133]\n",
            " [125 133 146]\n",
            " [133 146 158]\n",
            " [146 158 172]\n",
            " [158 172 187]\n",
            " [172 187 196]]\n",
            "[146 158 172 187 196 210]\n"
          ]
        },
        {
          "output_type": "execute_result",
          "data": {
            "text/plain": [
              "(None, None)"
            ]
          },
          "metadata": {},
          "execution_count": 8
        }
      ]
    },
    {
      "cell_type": "code",
      "source": [
        "n_features=1\n",
        "x=x.reshape((x.shape[0],x.shape[1],n_features))"
      ],
      "metadata": {
        "id": "n3NVuUm93DcH"
      },
      "execution_count": 24,
      "outputs": []
    },
    {
      "cell_type": "code",
      "source": [
        "x.shape"
      ],
      "metadata": {
        "colab": {
          "base_uri": "https://localhost:8080/"
        },
        "id": "eLC1u_DL35ju",
        "outputId": "ea046160-d129-4917-a38c-0ee4a2e8b8ac"
      },
      "execution_count": 25,
      "outputs": [
        {
          "output_type": "execute_result",
          "data": {
            "text/plain": [
              "(8, 1, 1)"
            ]
          },
          "metadata": {},
          "execution_count": 25
        }
      ]
    },
    {
      "cell_type": "markdown",
      "source": [
        "LSTM model"
      ],
      "metadata": {
        "id": "7OAP8-dJ4SnF"
      }
    },
    {
      "cell_type": "code",
      "source": [
        "model = Sequential()\n",
        "model.add(LSTM(50, activation='relu', return_sequences=True, input_shape=(n_steps, n_features)))\n",
        "model.add(LSTM(50, activation='relu'))\n",
        "model.add(Dense(1))\n",
        "model.compile(optimizer='adam', loss='mse')\n"
      ],
      "metadata": {
        "id": "S76YHfHh38wq"
      },
      "execution_count": 26,
      "outputs": []
    }
  ]
}