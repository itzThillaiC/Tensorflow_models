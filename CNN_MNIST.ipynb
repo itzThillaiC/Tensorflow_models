{
  "nbformat": 4,
  "nbformat_minor": 0,
  "metadata": {
    "colab": {
      "name": "CNN_MNIST.ipynb",
      "provenance": [],
      "collapsed_sections": [],
      "authorship_tag": "ABX9TyPrVEy2IO8DINp2SbO+KYDc",
      "include_colab_link": true
    },
    "kernelspec": {
      "name": "python3",
      "display_name": "Python 3"
    },
    "language_info": {
      "name": "python"
    }
  },
  "cells": [
    {
      "cell_type": "markdown",
      "metadata": {
        "id": "view-in-github",
        "colab_type": "text"
      },
      "source": [
        "<a href=\"https://colab.research.google.com/github/itzThillaiC/Tensorflow_models/blob/main/CNN_MNIST.ipynb\" target=\"_parent\"><img src=\"https://colab.research.google.com/assets/colab-badge.svg\" alt=\"Open In Colab\"/></a>"
      ]
    },
    {
      "cell_type": "code",
      "execution_count": 2,
      "metadata": {
        "id": "t10zzQqzJzCt"
      },
      "outputs": [],
      "source": [
        "from numpy import unique , argmax\n",
        "from tensorflow.keras.datasets.mnist import load_data\n",
        "from tensorflow.keras import Sequential\n",
        "from tensorflow.keras.layers import Conv2D\n",
        "from tensorflow.keras.layers import MaxPool2D\n",
        "from tensorflow.keras.layers import Dense\n",
        "from tensorflow.keras.layers import Flatten\n",
        "from tensorflow.keras.layers import Dropout\n",
        "from tensorflow.keras.utils import plot_model\n",
        "import matplotlib.pyplot as plt\n",
        "import numpy as np"
      ]
    },
    {
      "cell_type": "code",
      "source": [
        "(x_train,y_train),(x_test,y_test)=load_data()\n",
        "\n",
        "x_train= x_train.reshape((x_train.shape[0]),x_train.shape[1],x_train.shape[2],1)\n",
        "x_test=x_test.reshape((x_test.shape[0],x_test.shape[1],x_test.shape[2],1))"
      ],
      "metadata": {
        "colab": {
          "base_uri": "https://localhost:8080/"
        },
        "id": "f25D-5gDLQwY",
        "outputId": "57221a1d-c095-41a7-c115-58cb2e6fbaf9"
      },
      "execution_count": 3,
      "outputs": [
        {
          "output_type": "stream",
          "name": "stdout",
          "text": [
            "Downloading data from https://storage.googleapis.com/tensorflow/tf-keras-datasets/mnist.npz\n",
            "11493376/11490434 [==============================] - 0s 0us/step\n",
            "11501568/11490434 [==============================] - 0s 0us/step\n"
          ]
        }
      ]
    },
    {
      "cell_type": "code",
      "source": [
        "x_train=x_train.astype('float32')/255.0\n",
        "x_test=x_test.astype('float32')/255.0"
      ],
      "metadata": {
        "id": "c2B1Xrc9NDew"
      },
      "execution_count": 4,
      "outputs": []
    },
    {
      "cell_type": "code",
      "source": [
        "fig=plt.figure(figsize=(5,3))\n",
        "for i in range(15):\n",
        "  ax=fig.add_subplot(2,10,i+1,xticks=[],yticks=[])\n",
        "  ax.imshow(np.squeeze(x_train[i]),cmap='gray')\n",
        "  ax.set_title(y_train[i])"
      ],
      "metadata": {
        "colab": {
          "base_uri": "https://localhost:8080/",
          "height": 163
        },
        "id": "a0AuvGDzNW_8",
        "outputId": "91b10ae1-5d12-43b4-b6ff-1833a29c3d36"
      },
      "execution_count": 5,
      "outputs": [
        {
          "output_type": "display_data",
          "data": {
            "text/plain": [
              "<Figure size 360x216 with 15 Axes>"
            ],
            "image/png": "[encoded data removed]"
          },
          "metadata": {}
        }
      ]
    },
    {
      "cell_type": "code",
      "source": [
        "img_shape=x_train.shape[1:]\n",
        "print(img_shape)"
      ],
      "metadata": {
        "colab": {
          "base_uri": "https://localhost:8080/"
        },
        "id": "OZ3sXH0kN_OA",
        "outputId": "1a832941-4380-4e7a-e48d-35a1da528c75"
      },
      "execution_count": 7,
      "outputs": [
        {
          "output_type": "stream",
          "name": "stdout",
          "text": [
            "(28, 28, 1)\n"
          ]
        }
      ]
    },
    {
      "cell_type": "code",
      "source": [
        "model=Sequential()\n",
        "model.add(Conv2D(32,(3,3),activation='relu',input_shape=img_shape))\n",
        "model.add(MaxPool2D((2,2)))\n",
        "model.add(Conv2D(48,(3,3),activation='relu'))\n",
        "model.add(MaxPool2D((2,2)))\n",
        "model.add(Dropout(0.5))\n",
        "model.add(Flatten())\n",
        "model.add(Dense(500,activation='relu'))\n",
        "model.add(Dense(10,activation='softmax'))"
      ],
      "metadata": {
        "id": "fu5T5f-DOLNw"
      },
      "execution_count": 10,
      "outputs": []
    },
    {
      "cell_type": "code",
      "source": [
        "model.summary()"
      ],
      "metadata": {
        "colab": {
          "base_uri": "https://localhost:8080/"
        },
        "id": "NNSlcglAPe5T",
        "outputId": "4b98f66d-5794-47a6-f66f-275371e1365a"
      },
      "execution_count": 11,
      "outputs": [
        {
          "output_type": "stream",
          "name": "stdout",
          "text": [
            "Model: \"sequential_2\"\n",
            "_________________________________________________________________\n",
            " Layer (type)                Output Shape              Param #   \n",
            "=================================================================\n",
            " conv2d (Conv2D)             (None, 26, 26, 32)        320       \n",
            "                                                                 \n",
            " max_pooling2d (MaxPooling2D  (None, 13, 13, 32)       0         \n",
            " )                                                               \n",
            "                                                                 \n",
            " conv2d_1 (Conv2D)           (None, 11, 11, 48)        13872     \n",
            "                                                                 \n",
            " max_pooling2d_1 (MaxPooling  (None, 5, 5, 48)         0         \n",
            " 2D)                                                             \n",
            "                                                                 \n",
            " dropout (Dropout)           (None, 5, 5, 48)          0         \n",
            "                                                                 \n",
            " flatten (Flatten)           (None, 1200)              0         \n",
            "                                                                 \n",
            " dense (Dense)               (None, 500)               600500    \n",
            "                                                                 \n",
            " dense_1 (Dense)             (None, 10)                5010      \n",
            "                                                                 \n",
            "=================================================================\n",
            "Total params: 619,702\n",
            "Trainable params: 619,702\n",
            "Non-trainable params: 0\n",
            "_________________________________________________________________\n"
          ]
        }
      ]
    },
    {
      "cell_type": "code",
      "source": [
        "model.compile(optimizer='adam',loss='sparse_categorical_crossentropy',metrics=['accuracy'])\n",
        "x=model.fit(x_train,y_train,epochs=10,batch_size=128,verbose=2,validation_split=0.1)"
      ],
      "metadata": {
        "colab": {
          "base_uri": "https://localhost:8080/"
        },
        "id": "N89bry2sPipv",
        "outputId": "48d34c79-9fab-4113-ac0f-792164bc4379"
      },
      "execution_count": 12,
      "outputs": [
        {
          "output_type": "stream",
          "name": "stdout",
          "text": [
            "Epoch 1/10\n",
            "422/422 - 42s - loss: 0.2556 - accuracy: 0.9214 - val_loss: 0.0595 - val_accuracy: 0.9827 - 42s/epoch - 98ms/step\n",
            "Epoch 2/10\n",
            "422/422 - 47s - loss: 0.0825 - accuracy: 0.9738 - val_loss: 0.0380 - val_accuracy: 0.9900 - 47s/epoch - 111ms/step\n",
            "Epoch 3/10\n",
            "422/422 - 48s - loss: 0.0606 - accuracy: 0.9812 - val_loss: 0.0314 - val_accuracy: 0.9905 - 48s/epoch - 113ms/step\n",
            "Epoch 4/10\n",
            "422/422 - 56s - loss: 0.0496 - accuracy: 0.9843 - val_loss: 0.0322 - val_accuracy: 0.9900 - 56s/epoch - 133ms/step\n",
            "Epoch 5/10\n",
            "422/422 - 51s - loss: 0.0418 - accuracy: 0.9867 - val_loss: 0.0315 - val_accuracy: 0.9913 - 51s/epoch - 122ms/step\n",
            "Epoch 6/10\n",
            "422/422 - 45s - loss: 0.0354 - accuracy: 0.9883 - val_loss: 0.0298 - val_accuracy: 0.9928 - 45s/epoch - 107ms/step\n",
            "Epoch 7/10\n",
            "422/422 - 41s - loss: 0.0327 - accuracy: 0.9894 - val_loss: 0.0264 - val_accuracy: 0.9928 - 41s/epoch - 97ms/step\n",
            "Epoch 8/10\n",
            "422/422 - 40s - loss: 0.0284 - accuracy: 0.9907 - val_loss: 0.0347 - val_accuracy: 0.9917 - 40s/epoch - 95ms/step\n",
            "Epoch 9/10\n",
            "422/422 - 40s - loss: 0.0272 - accuracy: 0.9913 - val_loss: 0.0217 - val_accuracy: 0.9940 - 40s/epoch - 94ms/step\n",
            "Epoch 10/10\n",
            "422/422 - 40s - loss: 0.0236 - accuracy: 0.9924 - val_loss: 0.0244 - val_accuracy: 0.9945 - 40s/epoch - 95ms/step\n"
          ]
        }
      ]
    },
    {
      "cell_type": "code",
      "source": [
        "loss,accuracy=model.evaluate(x_test,y_test,verbose=0)\n",
        "print(f'Accuracy:{accuracy*100}')"
      ],
      "metadata": {
        "colab": {
          "base_uri": "https://localhost:8080/"
        },
        "id": "YyeT0b3dQVsk",
        "outputId": "8c503632-e9cb-4439-b6a9-c8d289c56f66"
      },
      "execution_count": 14,
      "outputs": [
        {
          "output_type": "stream",
          "name": "stdout",
          "text": [
            "Accuracy:99.26999807357788\n"
          ]
        }
      ]
    },
    {
      "cell_type": "code",
      "source": [
        "image=x_train[2]\n",
        "plt.imshow(np.squeeze(image),cmap='gray')\n",
        "plt.show()"
      ],
      "metadata": {
        "colab": {
          "base_uri": "https://localhost:8080/",
          "height": 265
        },
        "id": "GpXmAAj5QqS7",
        "outputId": "cf70805f-e87e-49bf-e75c-285159ebd3f4"
      },
      "execution_count": 23,
      "outputs": [
        {
          "output_type": "display_data",
          "data": {
            "text/plain": [
              "<Figure size 432x288 with 1 Axes>"
            ],
            "image/png": "[encoded data removed]"
          },
          "metadata": {
            "needs_background": "light"
          }
        }
      ]
    },
    {
      "cell_type": "code",
      "source": [
        "image= image.reshape(1,image.shape[0],image.shape[1].image.shape[2])\n",
        "p=model.predict([image])\n",
        "print('Predicted: {}'.format(argmax(p)))"
      ],
      "metadata": {
        "id": "uVjoAKbRQ1Kb"
      },
      "execution_count": 24,
      "outputs": []
    }
  ]
}